{
 "cells": [
  {
   "cell_type": "markdown",
   "metadata": {},
   "source": [
    "[![image](https://colab.research.google.com/assets/colab-badge.svg)](https://colab.research.google.com/github/nazifa02/geotask/blob/main/docs/examples/csv.ipynb)"
   ]
  },
  {
   "cell_type": "code",
   "execution_count": 1,
   "metadata": {},
   "outputs": [
    {
     "name": "stdout",
     "output_type": "stream",
     "text": [
      "Requirement already satisfied: geotask in c:\\users\\tasne\\miniconda3\\envs\\geo\\lib\\site-packages (0.0.5)\n",
      "Requirement already satisfied: ipyleaflet in c:\\users\\tasne\\miniconda3\\envs\\geo\\lib\\site-packages (from geotask) (0.18.2)\n",
      "Requirement already satisfied: numpy in c:\\users\\tasne\\appdata\\roaming\\python\\python311\\site-packages (from geotask) (1.25.2)\n",
      "Requirement already satisfied: pandas in c:\\users\\tasne\\appdata\\roaming\\python\\python311\\site-packages (from geotask) (2.2.1)\n",
      "Requirement already satisfied: pyshp in c:\\users\\tasne\\appdata\\roaming\\python\\python311\\site-packages (from geotask) (2.3.1)\n",
      "Requirement already satisfied: geopandas in c:\\users\\tasne\\appdata\\roaming\\python\\python311\\site-packages (from geotask) (0.14.3)\n",
      "Requirement already satisfied: localtileserver in c:\\users\\tasne\\miniconda3\\envs\\geo\\lib\\site-packages (from geotask) (0.7.2)\n",
      "Requirement already satisfied: fiona>=1.8.21 in c:\\users\\tasne\\appdata\\roaming\\python\\python311\\site-packages (from geopandas->geotask) (1.9.6)\n",
      "Requirement already satisfied: packaging in c:\\users\\tasne\\miniconda3\\envs\\geo\\lib\\site-packages (from geopandas->geotask) (23.2)\n",
      "Requirement already satisfied: pyproj>=3.3.0 in c:\\users\\tasne\\appdata\\roaming\\python\\python311\\site-packages (from geopandas->geotask) (3.6.1)\n",
      "Requirement already satisfied: shapely>=1.8.0 in c:\\users\\tasne\\appdata\\roaming\\python\\python311\\site-packages (from geopandas->geotask) (2.0.3)\n",
      "Requirement already satisfied: python-dateutil>=2.8.2 in c:\\users\\tasne\\appdata\\roaming\\python\\python311\\site-packages (from pandas->geotask) (2.9.0.post0)\n",
      "Requirement already satisfied: pytz>=2020.1 in c:\\users\\tasne\\appdata\\roaming\\python\\python311\\site-packages (from pandas->geotask) (2024.1)\n",
      "Requirement already satisfied: tzdata>=2022.7 in c:\\users\\tasne\\appdata\\roaming\\python\\python311\\site-packages (from pandas->geotask) (2024.1)\n",
      "Requirement already satisfied: ipywidgets<9,>=7.6.0 in c:\\users\\tasne\\appdata\\roaming\\python\\python311\\site-packages (from ipyleaflet->geotask) (8.1.2)\n",
      "Requirement already satisfied: traittypes<3,>=0.2.1 in c:\\users\\tasne\\appdata\\roaming\\python\\python311\\site-packages (from ipyleaflet->geotask) (0.2.1)\n",
      "Requirement already satisfied: xyzservices>=2021.8.1 in c:\\users\\tasne\\appdata\\roaming\\python\\python311\\site-packages (from ipyleaflet->geotask) (2023.10.1)\n",
      "Requirement already satisfied: branca>=0.5.0 in c:\\users\\tasne\\appdata\\roaming\\python\\python311\\site-packages (from ipyleaflet->geotask) (0.7.1)\n",
      "Requirement already satisfied: click in c:\\users\\tasne\\appdata\\roaming\\python\\python311\\site-packages (from localtileserver->geotask) (8.1.7)\n",
      "Requirement already satisfied: flask<3,>=2.0.0 in c:\\users\\tasne\\miniconda3\\envs\\geo\\lib\\site-packages (from localtileserver->geotask) (2.3.3)\n",
      "Requirement already satisfied: Flask-Caching in c:\\users\\tasne\\miniconda3\\envs\\geo\\lib\\site-packages (from localtileserver->geotask) (2.1.0)\n",
      "Requirement already satisfied: flask-cors in c:\\users\\tasne\\miniconda3\\envs\\geo\\lib\\site-packages (from localtileserver->geotask) (4.0.0)\n",
      "Requirement already satisfied: flask-restx>=0.5.0 in c:\\users\\tasne\\miniconda3\\envs\\geo\\lib\\site-packages (from localtileserver->geotask) (1.1.0)\n",
      "Requirement already satisfied: large-image>=1.22.2 in c:\\users\\tasne\\miniconda3\\envs\\geo\\lib\\site-packages (from large-image[rasterio]>=1.22.2->localtileserver->geotask) (1.27.0)\n",
      "Requirement already satisfied: requests in c:\\users\\tasne\\appdata\\roaming\\python\\python311\\site-packages (from localtileserver->geotask) (2.31.0)\n",
      "Requirement already satisfied: server-thread in c:\\users\\tasne\\miniconda3\\envs\\geo\\lib\\site-packages (from localtileserver->geotask) (0.2.0)\n",
      "Requirement already satisfied: scooby in c:\\users\\tasne\\miniconda3\\envs\\geo\\lib\\site-packages (from localtileserver->geotask) (0.9.2)\n",
      "Requirement already satisfied: werkzeug in c:\\users\\tasne\\miniconda3\\envs\\geo\\lib\\site-packages (from localtileserver->geotask) (3.0.1)\n",
      "Requirement already satisfied: jinja2>=3 in c:\\users\\tasne\\appdata\\roaming\\python\\python311\\site-packages (from branca>=0.5.0->ipyleaflet->geotask) (3.1.3)\n",
      "Requirement already satisfied: attrs>=19.2.0 in c:\\users\\tasne\\appdata\\roaming\\python\\python311\\site-packages (from fiona>=1.8.21->geopandas->geotask) (23.2.0)\n",
      "Requirement already satisfied: certifi in c:\\users\\tasne\\appdata\\roaming\\python\\python311\\site-packages (from fiona>=1.8.21->geopandas->geotask) (2024.2.2)\n",
      "Requirement already satisfied: click-plugins>=1.0 in c:\\users\\tasne\\appdata\\roaming\\python\\python311\\site-packages (from fiona>=1.8.21->geopandas->geotask) (1.1.1)\n",
      "Requirement already satisfied: cligj>=0.5 in c:\\users\\tasne\\appdata\\roaming\\python\\python311\\site-packages (from fiona>=1.8.21->geopandas->geotask) (0.7.2)\n",
      "Requirement already satisfied: six in c:\\users\\tasne\\appdata\\roaming\\python\\python311\\site-packages (from fiona>=1.8.21->geopandas->geotask) (1.16.0)\n",
      "Requirement already satisfied: colorama in c:\\users\\tasne\\appdata\\roaming\\python\\python311\\site-packages (from click->localtileserver->geotask) (0.4.6)\n",
      "Requirement already satisfied: itsdangerous>=2.1.2 in c:\\users\\tasne\\miniconda3\\envs\\geo\\lib\\site-packages (from flask<3,>=2.0.0->localtileserver->geotask) (2.1.2)\n",
      "Requirement already satisfied: blinker>=1.6.2 in c:\\users\\tasne\\miniconda3\\envs\\geo\\lib\\site-packages (from flask<3,>=2.0.0->localtileserver->geotask) (1.7.0)\n",
      "Requirement already satisfied: aniso8601>=0.82 in c:\\users\\tasne\\miniconda3\\envs\\geo\\lib\\site-packages (from flask-restx>=0.5.0->localtileserver->geotask) (9.0.1)\n",
      "Requirement already satisfied: jsonschema in c:\\users\\tasne\\miniconda3\\envs\\geo\\lib\\site-packages (from flask-restx>=0.5.0->localtileserver->geotask) (4.21.1)\n",
      "Requirement already satisfied: comm>=0.1.3 in c:\\users\\tasne\\appdata\\roaming\\python\\python311\\site-packages (from ipywidgets<9,>=7.6.0->ipyleaflet->geotask) (0.2.2)\n",
      "Requirement already satisfied: ipython>=6.1.0 in c:\\users\\tasne\\appdata\\roaming\\python\\python311\\site-packages (from ipywidgets<9,>=7.6.0->ipyleaflet->geotask) (8.22.2)\n",
      "Requirement already satisfied: traitlets>=4.3.1 in c:\\users\\tasne\\appdata\\roaming\\python\\python311\\site-packages (from ipywidgets<9,>=7.6.0->ipyleaflet->geotask) (5.14.2)\n",
      "Requirement already satisfied: widgetsnbextension~=4.0.10 in c:\\users\\tasne\\appdata\\roaming\\python\\python311\\site-packages (from ipywidgets<9,>=7.6.0->ipyleaflet->geotask) (4.0.10)\n",
      "Requirement already satisfied: jupyterlab-widgets~=3.0.10 in c:\\users\\tasne\\appdata\\roaming\\python\\python311\\site-packages (from ipywidgets<9,>=7.6.0->ipyleaflet->geotask) (3.0.10)\n",
      "Requirement already satisfied: cachetools in c:\\users\\tasne\\miniconda3\\envs\\geo\\lib\\site-packages (from large-image>=1.22.2->large-image[rasterio]>=1.22.2->localtileserver->geotask) (4.2.4)\n",
      "Requirement already satisfied: palettable in c:\\users\\tasne\\miniconda3\\envs\\geo\\lib\\site-packages (from large-image>=1.22.2->large-image[rasterio]>=1.22.2->localtileserver->geotask) (3.3.3)\n",
      "Requirement already satisfied: Pillow in c:\\users\\tasne\\appdata\\roaming\\python\\python311\\site-packages (from large-image>=1.22.2->large-image[rasterio]>=1.22.2->localtileserver->geotask) (10.3.0)\n",
      "Requirement already satisfied: large-image-source-rasterio>=1.27.0 in c:\\users\\tasne\\miniconda3\\envs\\geo\\lib\\site-packages (from large-image[rasterio]>=1.22.2->localtileserver->geotask) (1.27.0)\n",
      "Requirement already satisfied: MarkupSafe>=2.1.1 in c:\\users\\tasne\\appdata\\roaming\\python\\python311\\site-packages (from werkzeug->localtileserver->geotask) (2.1.5)\n",
      "Requirement already satisfied: cachelib<0.10.0,>=0.9.0 in c:\\users\\tasne\\miniconda3\\envs\\geo\\lib\\site-packages (from Flask-Caching->localtileserver->geotask) (0.9.0)\n",
      "Requirement already satisfied: charset-normalizer<4,>=2 in c:\\users\\tasne\\appdata\\roaming\\python\\python311\\site-packages (from requests->localtileserver->geotask) (3.3.2)\n",
      "Requirement already satisfied: idna<4,>=2.5 in c:\\users\\tasne\\appdata\\roaming\\python\\python311\\site-packages (from requests->localtileserver->geotask) (3.7)\n",
      "Requirement already satisfied: urllib3<3,>=1.21.1 in c:\\users\\tasne\\appdata\\roaming\\python\\python311\\site-packages (from requests->localtileserver->geotask) (2.2.1)\n",
      "Requirement already satisfied: uvicorn in c:\\users\\tasne\\miniconda3\\envs\\geo\\lib\\site-packages (from server-thread->localtileserver->geotask) (0.27.0)\n",
      "Requirement already satisfied: decorator in c:\\users\\tasne\\appdata\\roaming\\python\\python311\\site-packages (from ipython>=6.1.0->ipywidgets<9,>=7.6.0->ipyleaflet->geotask) (5.1.1)\n",
      "Requirement already satisfied: jedi>=0.16 in c:\\users\\tasne\\appdata\\roaming\\python\\python311\\site-packages (from ipython>=6.1.0->ipywidgets<9,>=7.6.0->ipyleaflet->geotask) (0.19.1)\n",
      "Requirement already satisfied: matplotlib-inline in c:\\users\\tasne\\appdata\\roaming\\python\\python311\\site-packages (from ipython>=6.1.0->ipywidgets<9,>=7.6.0->ipyleaflet->geotask) (0.1.6)\n",
      "Requirement already satisfied: prompt-toolkit<3.1.0,>=3.0.41 in c:\\users\\tasne\\appdata\\roaming\\python\\python311\\site-packages (from ipython>=6.1.0->ipywidgets<9,>=7.6.0->ipyleaflet->geotask) (3.0.43)\n",
      "Requirement already satisfied: pygments>=2.4.0 in c:\\users\\tasne\\appdata\\roaming\\python\\python311\\site-packages (from ipython>=6.1.0->ipywidgets<9,>=7.6.0->ipyleaflet->geotask) (2.17.2)\n",
      "Requirement already satisfied: stack-data in c:\\users\\tasne\\appdata\\roaming\\python\\python311\\site-packages (from ipython>=6.1.0->ipywidgets<9,>=7.6.0->ipyleaflet->geotask) (0.6.3)\n",
      "Requirement already satisfied: rasterio>=1.3 in c:\\users\\tasne\\appdata\\roaming\\python\\python311\\site-packages (from large-image-source-rasterio>=1.27.0->large-image[rasterio]>=1.22.2->localtileserver->geotask) (1.3.9)\n",
      "Requirement already satisfied: jsonschema-specifications>=2023.03.6 in c:\\users\\tasne\\miniconda3\\envs\\geo\\lib\\site-packages (from jsonschema->flask-restx>=0.5.0->localtileserver->geotask) (2023.12.1)\n",
      "Requirement already satisfied: referencing>=0.28.4 in c:\\users\\tasne\\miniconda3\\envs\\geo\\lib\\site-packages (from jsonschema->flask-restx>=0.5.0->localtileserver->geotask) (0.32.1)\n",
      "Requirement already satisfied: rpds-py>=0.7.1 in c:\\users\\tasne\\miniconda3\\envs\\geo\\lib\\site-packages (from jsonschema->flask-restx>=0.5.0->localtileserver->geotask) (0.17.1)\n",
      "Requirement already satisfied: h11>=0.8 in c:\\users\\tasne\\miniconda3\\envs\\geo\\lib\\site-packages (from uvicorn->server-thread->localtileserver->geotask) (0.14.0)\n",
      "Requirement already satisfied: parso<0.9.0,>=0.8.3 in c:\\users\\tasne\\appdata\\roaming\\python\\python311\\site-packages (from jedi>=0.16->ipython>=6.1.0->ipywidgets<9,>=7.6.0->ipyleaflet->geotask) (0.8.3)\n",
      "Requirement already satisfied: wcwidth in c:\\users\\tasne\\appdata\\roaming\\python\\python311\\site-packages (from prompt-toolkit<3.1.0,>=3.0.41->ipython>=6.1.0->ipywidgets<9,>=7.6.0->ipyleaflet->geotask) (0.2.13)\n",
      "Requirement already satisfied: affine in c:\\users\\tasne\\appdata\\roaming\\python\\python311\\site-packages (from rasterio>=1.3->large-image-source-rasterio>=1.27.0->large-image[rasterio]>=1.22.2->localtileserver->geotask) (2.4.0)\n",
      "Requirement already satisfied: snuggs>=1.4.1 in c:\\users\\tasne\\appdata\\roaming\\python\\python311\\site-packages (from rasterio>=1.3->large-image-source-rasterio>=1.27.0->large-image[rasterio]>=1.22.2->localtileserver->geotask) (1.4.7)\n",
      "Requirement already satisfied: setuptools in c:\\users\\tasne\\miniconda3\\envs\\geo\\lib\\site-packages (from rasterio>=1.3->large-image-source-rasterio>=1.27.0->large-image[rasterio]>=1.22.2->localtileserver->geotask) (68.2.2)\n",
      "Requirement already satisfied: executing>=1.2.0 in c:\\users\\tasne\\appdata\\roaming\\python\\python311\\site-packages (from stack-data->ipython>=6.1.0->ipywidgets<9,>=7.6.0->ipyleaflet->geotask) (2.0.1)\n",
      "Requirement already satisfied: asttokens>=2.1.0 in c:\\users\\tasne\\appdata\\roaming\\python\\python311\\site-packages (from stack-data->ipython>=6.1.0->ipywidgets<9,>=7.6.0->ipyleaflet->geotask) (2.4.1)\n",
      "Requirement already satisfied: pure-eval in c:\\users\\tasne\\appdata\\roaming\\python\\python311\\site-packages (from stack-data->ipython>=6.1.0->ipywidgets<9,>=7.6.0->ipyleaflet->geotask) (0.2.2)\n",
      "Requirement already satisfied: pyparsing>=2.1.6 in c:\\users\\tasne\\appdata\\roaming\\python\\python311\\site-packages (from snuggs>=1.4.1->rasterio>=1.3->large-image-source-rasterio>=1.27.0->large-image[rasterio]>=1.22.2->localtileserver->geotask) (3.1.2)\n"
     ]
    },
    {
     "name": "stderr",
     "output_type": "stream",
     "text": [
      "WARNING: Skipping C:\\Users\\tasne\\miniconda3\\envs\\geo\\Lib\\site-packages\\vtk-9.2.6.egg-info due to invalid metadata entry 'name'\n",
      "WARNING: Skipping C:\\Users\\tasne\\miniconda3\\envs\\geo\\Lib\\site-packages\\vtk-9.2.6.egg-info due to invalid metadata entry 'name'\n"
     ]
    }
   ],
   "source": [
    "!pip install geotask"
   ]
  },
  {
   "cell_type": "code",
   "execution_count": 6,
   "metadata": {},
   "outputs": [],
   "source": [
    "#pip install --upgrade geotask"
   ]
  },
  {
   "cell_type": "code",
   "execution_count": 2,
   "metadata": {},
   "outputs": [],
   "source": [
    "import geotask\n",
    "from geotask import utils"
   ]
  },
  {
   "cell_type": "markdown",
   "metadata": {},
   "source": [
    "### Read a CSV as a Pandas DataFrame"
   ]
  },
  {
   "cell_type": "code",
   "execution_count": 3,
   "metadata": {},
   "outputs": [
    {
     "data": {
      "text/html": [
       "<div>\n",
       "<style scoped>\n",
       "    .dataframe tbody tr th:only-of-type {\n",
       "        vertical-align: middle;\n",
       "    }\n",
       "\n",
       "    .dataframe tbody tr th {\n",
       "        vertical-align: top;\n",
       "    }\n",
       "\n",
       "    .dataframe thead th {\n",
       "        text-align: right;\n",
       "    }\n",
       "</style>\n",
       "<table border=\"1\" class=\"dataframe\">\n",
       "  <thead>\n",
       "    <tr style=\"text-align: right;\">\n",
       "      <th></th>\n",
       "      <th>id</th>\n",
       "      <th>name</th>\n",
       "      <th>country</th>\n",
       "      <th>latitude</th>\n",
       "      <th>longitude</th>\n",
       "      <th>population</th>\n",
       "    </tr>\n",
       "  </thead>\n",
       "  <tbody>\n",
       "    <tr>\n",
       "      <th>0</th>\n",
       "      <td>1</td>\n",
       "      <td>Bombo</td>\n",
       "      <td>UGA</td>\n",
       "      <td>0.58330</td>\n",
       "      <td>32.53330</td>\n",
       "      <td>75000</td>\n",
       "    </tr>\n",
       "    <tr>\n",
       "      <th>1</th>\n",
       "      <td>2</td>\n",
       "      <td>Fort Portal</td>\n",
       "      <td>UGA</td>\n",
       "      <td>0.67100</td>\n",
       "      <td>30.27500</td>\n",
       "      <td>42670</td>\n",
       "    </tr>\n",
       "    <tr>\n",
       "      <th>2</th>\n",
       "      <td>3</td>\n",
       "      <td>Potenza</td>\n",
       "      <td>ITA</td>\n",
       "      <td>40.64200</td>\n",
       "      <td>15.79900</td>\n",
       "      <td>69060</td>\n",
       "    </tr>\n",
       "    <tr>\n",
       "      <th>3</th>\n",
       "      <td>4</td>\n",
       "      <td>Campobasso</td>\n",
       "      <td>ITA</td>\n",
       "      <td>41.56300</td>\n",
       "      <td>14.65600</td>\n",
       "      <td>50762</td>\n",
       "    </tr>\n",
       "    <tr>\n",
       "      <th>4</th>\n",
       "      <td>5</td>\n",
       "      <td>Aosta</td>\n",
       "      <td>ITA</td>\n",
       "      <td>45.73700</td>\n",
       "      <td>7.31500</td>\n",
       "      <td>34062</td>\n",
       "    </tr>\n",
       "    <tr>\n",
       "      <th>...</th>\n",
       "      <td>...</td>\n",
       "      <td>...</td>\n",
       "      <td>...</td>\n",
       "      <td>...</td>\n",
       "      <td>...</td>\n",
       "      <td>...</td>\n",
       "    </tr>\n",
       "    <tr>\n",
       "      <th>1244</th>\n",
       "      <td>1245</td>\n",
       "      <td>Rio de Janeiro</td>\n",
       "      <td>BRA</td>\n",
       "      <td>-22.92502</td>\n",
       "      <td>-43.22502</td>\n",
       "      <td>11748000</td>\n",
       "    </tr>\n",
       "    <tr>\n",
       "      <th>1245</th>\n",
       "      <td>1246</td>\n",
       "      <td>Sao Paulo</td>\n",
       "      <td>BRA</td>\n",
       "      <td>-23.55868</td>\n",
       "      <td>-46.62502</td>\n",
       "      <td>18845000</td>\n",
       "    </tr>\n",
       "    <tr>\n",
       "      <th>1246</th>\n",
       "      <td>1247</td>\n",
       "      <td>Sydney</td>\n",
       "      <td>AUS</td>\n",
       "      <td>-33.92001</td>\n",
       "      <td>151.18518</td>\n",
       "      <td>4630000</td>\n",
       "    </tr>\n",
       "    <tr>\n",
       "      <th>1247</th>\n",
       "      <td>1248</td>\n",
       "      <td>Singapore</td>\n",
       "      <td>SGP</td>\n",
       "      <td>1.29303</td>\n",
       "      <td>103.85582</td>\n",
       "      <td>5183700</td>\n",
       "    </tr>\n",
       "    <tr>\n",
       "      <th>1248</th>\n",
       "      <td>1249</td>\n",
       "      <td>Hong Kong</td>\n",
       "      <td>CHN</td>\n",
       "      <td>22.30498</td>\n",
       "      <td>114.18501</td>\n",
       "      <td>7206000</td>\n",
       "    </tr>\n",
       "  </tbody>\n",
       "</table>\n",
       "<p>1249 rows × 6 columns</p>\n",
       "</div>"
      ],
      "text/plain": [
       "        id            name country  latitude  longitude  population\n",
       "0        1           Bombo     UGA   0.58330   32.53330       75000\n",
       "1        2     Fort Portal     UGA   0.67100   30.27500       42670\n",
       "2        3         Potenza     ITA  40.64200   15.79900       69060\n",
       "3        4      Campobasso     ITA  41.56300   14.65600       50762\n",
       "4        5           Aosta     ITA  45.73700    7.31500       34062\n",
       "...    ...             ...     ...       ...        ...         ...\n",
       "1244  1245  Rio de Janeiro     BRA -22.92502  -43.22502    11748000\n",
       "1245  1246       Sao Paulo     BRA -23.55868  -46.62502    18845000\n",
       "1246  1247          Sydney     AUS -33.92001  151.18518     4630000\n",
       "1247  1248       Singapore     SGP   1.29303  103.85582     5183700\n",
       "1248  1249       Hong Kong     CHN  22.30498  114.18501     7206000\n",
       "\n",
       "[1249 rows x 6 columns]"
      ]
     },
     "execution_count": 3,
     "metadata": {},
     "output_type": "execute_result"
    }
   ],
   "source": [
    "csv = \"https://raw.githubusercontent.com/opengeos/data/main/world/world_cities.csv\"\n",
    "df = utils.csv_to_df(csv)\n",
    "df"
   ]
  },
  {
   "cell_type": "code",
   "execution_count": 4,
   "metadata": {},
   "outputs": [
    {
     "data": {
      "application/vnd.jupyter.widget-view+json": {
       "model_id": "545f28d2e1ea47518ede6c6a8a67de78",
       "version_major": 2,
       "version_minor": 0
      },
      "text/plain": [
       "Map(center=[20, 0], controls=(ZoomControl(options=['position', 'zoom_in_text', 'zoom_in_title', 'zoom_out_text…"
      ]
     },
     "execution_count": 4,
     "metadata": {},
     "output_type": "execute_result"
    }
   ],
   "source": [
    "m = geotask.Map()\n",
    "m"
   ]
  },
  {
   "cell_type": "markdown",
   "metadata": {},
   "source": [
    "### Add points on Map"
   ]
  },
  {
   "cell_type": "code",
   "execution_count": 5,
   "metadata": {},
   "outputs": [
    {
     "data": {
      "application/vnd.jupyter.widget-view+json": {
       "model_id": "b7c6aa40240449b3be3f5a67a5abf334",
       "version_major": 2,
       "version_minor": 0
      },
      "text/plain": [
       "Map(center=[20, 0], controls=(ZoomControl(options=['position', 'zoom_in_text', 'zoom_in_title', 'zoom_out_text…"
      ]
     },
     "execution_count": 5,
     "metadata": {},
     "output_type": "execute_result"
    }
   ],
   "source": [
    "m = geotask.Map(\n",
    "    layout={'height': '600px'}\n",
    ")\n",
    "m.add_points(df)\n",
    "m"
   ]
  }
 ],
 "metadata": {
  "kernelspec": {
   "display_name": "geo",
   "language": "python",
   "name": "python3"
  },
  "language_info": {
   "codemirror_mode": {
    "name": "ipython",
    "version": 3
   },
   "file_extension": ".py",
   "mimetype": "text/x-python",
   "name": "python",
   "nbconvert_exporter": "python",
   "pygments_lexer": "ipython3",
   "version": "3.11.7"
  }
 },
 "nbformat": 4,
 "nbformat_minor": 2
}
