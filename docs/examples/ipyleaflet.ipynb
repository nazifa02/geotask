{
 "cells": [
  {
   "cell_type": "markdown",
   "metadata": {},
   "source": [
    "[![image](https://colab.research.google.com/assets/colab-badge.svg)](https://colab.research.google.com/github/nazifa02/geotask/blob/main/docs/examples/ipyleaflet.ipynb)"
   ]
  },
  {
   "cell_type": "code",
   "execution_count": 1,
   "metadata": {},
   "outputs": [
    {
     "name": "stdout",
     "output_type": "stream",
     "text": [
      "Requirement already satisfied: geotask in c:\\users\\tasne\\miniconda3\\envs\\geo\\lib\\site-packages (0.0.2)\n",
      "Requirement already satisfied: numpy in c:\\users\\tasne\\miniconda3\\envs\\geo\\lib\\site-packages (from geotask) (1.26.3)\n",
      "Requirement already satisfied: ipyleaflet in c:\\users\\tasne\\miniconda3\\envs\\geo\\lib\\site-packages (from geotask) (0.18.2)\n",
      "Requirement already satisfied: ipywidgets<9,>=7.6.0 in c:\\users\\tasne\\miniconda3\\envs\\geo\\lib\\site-packages (from ipyleaflet->geotask) (7.8.0)\n",
      "Requirement already satisfied: traittypes<3,>=0.2.1 in c:\\users\\tasne\\miniconda3\\envs\\geo\\lib\\site-packages (from ipyleaflet->geotask) (0.2.1)\n",
      "Requirement already satisfied: xyzservices>=2021.8.1 in c:\\users\\tasne\\miniconda3\\envs\\geo\\lib\\site-packages (from ipyleaflet->geotask) (2023.10.1)\n",
      "Requirement already satisfied: branca>=0.5.0 in c:\\users\\tasne\\miniconda3\\envs\\geo\\lib\\site-packages (from ipyleaflet->geotask) (0.7.1)\n",
      "Requirement already satisfied: jinja2>=3 in c:\\users\\tasne\\miniconda3\\envs\\geo\\lib\\site-packages (from branca>=0.5.0->ipyleaflet->geotask) (3.1.3)\n",
      "Requirement already satisfied: comm>=0.1.3 in c:\\users\\tasne\\appdata\\roaming\\python\\python311\\site-packages (from ipywidgets<9,>=7.6.0->ipyleaflet->geotask) (0.2.2)\n",
      "Requirement already satisfied: ipython-genutils~=0.2.0 in c:\\users\\tasne\\miniconda3\\envs\\geo\\lib\\site-packages (from ipywidgets<9,>=7.6.0->ipyleaflet->geotask) (0.2.0)\n",
      "Requirement already satisfied: traitlets>=4.3.1 in c:\\users\\tasne\\appdata\\roaming\\python\\python311\\site-packages (from ipywidgets<9,>=7.6.0->ipyleaflet->geotask) (5.14.2)\n",
      "Requirement already satisfied: widgetsnbextension~=3.6.5 in c:\\users\\tasne\\miniconda3\\envs\\geo\\lib\\site-packages (from ipywidgets<9,>=7.6.0->ipyleaflet->geotask) (3.6.6)\n",
      "Requirement already satisfied: ipython>=4.0.0 in c:\\users\\tasne\\appdata\\roaming\\python\\python311\\site-packages (from ipywidgets<9,>=7.6.0->ipyleaflet->geotask) (8.22.2)\n",
      "Requirement already satisfied: jupyterlab-widgets<3,>=1.0.0 in c:\\users\\tasne\\miniconda3\\envs\\geo\\lib\\site-packages (from ipywidgets<9,>=7.6.0->ipyleaflet->geotask) (1.1.7)\n",
      "Requirement already satisfied: decorator in c:\\users\\tasne\\appdata\\roaming\\python\\python311\\site-packages (from ipython>=4.0.0->ipywidgets<9,>=7.6.0->ipyleaflet->geotask) (5.1.1)\n",
      "Requirement already satisfied: jedi>=0.16 in c:\\users\\tasne\\appdata\\roaming\\python\\python311\\site-packages (from ipython>=4.0.0->ipywidgets<9,>=7.6.0->ipyleaflet->geotask) (0.19.1)\n",
      "Requirement already satisfied: matplotlib-inline in c:\\users\\tasne\\appdata\\roaming\\python\\python311\\site-packages (from ipython>=4.0.0->ipywidgets<9,>=7.6.0->ipyleaflet->geotask) (0.1.6)\n",
      "Requirement already satisfied: prompt-toolkit<3.1.0,>=3.0.41 in c:\\users\\tasne\\appdata\\roaming\\python\\python311\\site-packages (from ipython>=4.0.0->ipywidgets<9,>=7.6.0->ipyleaflet->geotask) (3.0.43)\n",
      "Requirement already satisfied: pygments>=2.4.0 in c:\\users\\tasne\\appdata\\roaming\\python\\python311\\site-packages (from ipython>=4.0.0->ipywidgets<9,>=7.6.0->ipyleaflet->geotask) (2.17.2)\n",
      "Requirement already satisfied: stack-data in c:\\users\\tasne\\appdata\\roaming\\python\\python311\\site-packages (from ipython>=4.0.0->ipywidgets<9,>=7.6.0->ipyleaflet->geotask) (0.6.3)\n",
      "Requirement already satisfied: colorama in c:\\users\\tasne\\appdata\\roaming\\python\\python311\\site-packages (from ipython>=4.0.0->ipywidgets<9,>=7.6.0->ipyleaflet->geotask) (0.4.6)\n",
      "Requirement already satisfied: MarkupSafe>=2.0 in c:\\users\\tasne\\miniconda3\\envs\\geo\\lib\\site-packages (from jinja2>=3->branca>=0.5.0->ipyleaflet->geotask) (2.1.4)\n",
      "Requirement already satisfied: notebook>=4.4.1 in c:\\users\\tasne\\miniconda3\\envs\\geo\\lib\\site-packages (from widgetsnbextension~=3.6.5->ipywidgets<9,>=7.6.0->ipyleaflet->geotask) (6.5.6)\n",
      "Requirement already satisfied: parso<0.9.0,>=0.8.3 in c:\\users\\tasne\\appdata\\roaming\\python\\python311\\site-packages (from jedi>=0.16->ipython>=4.0.0->ipywidgets<9,>=7.6.0->ipyleaflet->geotask) (0.8.3)\n",
      "Requirement already satisfied: tornado>=6.1 in c:\\users\\tasne\\appdata\\roaming\\python\\python311\\site-packages (from notebook>=4.4.1->widgetsnbextension~=3.6.5->ipywidgets<9,>=7.6.0->ipyleaflet->geotask) (6.4)\n",
      "Requirement already satisfied: pyzmq<25,>=17 in c:\\users\\tasne\\miniconda3\\envs\\geo\\lib\\site-packages (from notebook>=4.4.1->widgetsnbextension~=3.6.5->ipywidgets<9,>=7.6.0->ipyleaflet->geotask) (24.0.1)\n",
      "Requirement already satisfied: argon2-cffi in c:\\users\\tasne\\miniconda3\\envs\\geo\\lib\\site-packages (from notebook>=4.4.1->widgetsnbextension~=3.6.5->ipywidgets<9,>=7.6.0->ipyleaflet->geotask) (23.1.0)\n",
      "Requirement already satisfied: jupyter-core>=4.6.1 in c:\\users\\tasne\\appdata\\roaming\\python\\python311\\site-packages (from notebook>=4.4.1->widgetsnbextension~=3.6.5->ipywidgets<9,>=7.6.0->ipyleaflet->geotask) (5.7.2)\n",
      "Requirement already satisfied: jupyter-client<8,>=5.3.4 in c:\\users\\tasne\\miniconda3\\envs\\geo\\lib\\site-packages (from notebook>=4.4.1->widgetsnbextension~=3.6.5->ipywidgets<9,>=7.6.0->ipyleaflet->geotask) (7.4.9)\n",
      "Requirement already satisfied: nbformat in c:\\users\\tasne\\miniconda3\\envs\\geo\\lib\\site-packages (from notebook>=4.4.1->widgetsnbextension~=3.6.5->ipywidgets<9,>=7.6.0->ipyleaflet->geotask) (5.9.2)\n",
      "Requirement already satisfied: nbconvert>=5 in c:\\users\\tasne\\miniconda3\\envs\\geo\\lib\\site-packages (from notebook>=4.4.1->widgetsnbextension~=3.6.5->ipywidgets<9,>=7.6.0->ipyleaflet->geotask) (6.5.3)\n",
      "Requirement already satisfied: nest-asyncio>=1.5 in c:\\users\\tasne\\appdata\\roaming\\python\\python311\\site-packages (from notebook>=4.4.1->widgetsnbextension~=3.6.5->ipywidgets<9,>=7.6.0->ipyleaflet->geotask) (1.6.0)\n",
      "Requirement already satisfied: ipykernel in c:\\users\\tasne\\appdata\\roaming\\python\\python311\\site-packages (from notebook>=4.4.1->widgetsnbextension~=3.6.5->ipywidgets<9,>=7.6.0->ipyleaflet->geotask) (6.29.4)\n",
      "Requirement already satisfied: Send2Trash>=1.8.0 in c:\\users\\tasne\\miniconda3\\envs\\geo\\lib\\site-packages (from notebook>=4.4.1->widgetsnbextension~=3.6.5->ipywidgets<9,>=7.6.0->ipyleaflet->geotask) (1.8.2)\n",
      "Requirement already satisfied: terminado>=0.8.3 in c:\\users\\tasne\\miniconda3\\envs\\geo\\lib\\site-packages (from notebook>=4.4.1->widgetsnbextension~=3.6.5->ipywidgets<9,>=7.6.0->ipyleaflet->geotask) (0.18.0)\n",
      "Requirement already satisfied: prometheus-client in c:\\users\\tasne\\miniconda3\\envs\\geo\\lib\\site-packages (from notebook>=4.4.1->widgetsnbextension~=3.6.5->ipywidgets<9,>=7.6.0->ipyleaflet->geotask) (0.19.0)\n",
      "Requirement already satisfied: nbclassic>=0.4.7 in c:\\users\\tasne\\miniconda3\\envs\\geo\\lib\\site-packages (from notebook>=4.4.1->widgetsnbextension~=3.6.5->ipywidgets<9,>=7.6.0->ipyleaflet->geotask) (1.0.0)\n",
      "Requirement already satisfied: wcwidth in c:\\users\\tasne\\appdata\\roaming\\python\\python311\\site-packages (from prompt-toolkit<3.1.0,>=3.0.41->ipython>=4.0.0->ipywidgets<9,>=7.6.0->ipyleaflet->geotask) (0.2.13)\n",
      "Requirement already satisfied: executing>=1.2.0 in c:\\users\\tasne\\appdata\\roaming\\python\\python311\\site-packages (from stack-data->ipython>=4.0.0->ipywidgets<9,>=7.6.0->ipyleaflet->geotask) (2.0.1)\n",
      "Requirement already satisfied: asttokens>=2.1.0 in c:\\users\\tasne\\appdata\\roaming\\python\\python311\\site-packages (from stack-data->ipython>=4.0.0->ipywidgets<9,>=7.6.0->ipyleaflet->geotask) (2.4.1)\n",
      "Requirement already satisfied: pure-eval in c:\\users\\tasne\\appdata\\roaming\\python\\python311\\site-packages (from stack-data->ipython>=4.0.0->ipywidgets<9,>=7.6.0->ipyleaflet->geotask) (0.2.2)\n",
      "Requirement already satisfied: six>=1.12.0 in c:\\users\\tasne\\appdata\\roaming\\python\\python311\\site-packages (from asttokens>=2.1.0->stack-data->ipython>=4.0.0->ipywidgets<9,>=7.6.0->ipyleaflet->geotask) (1.16.0)\n",
      "Requirement already satisfied: entrypoints in c:\\users\\tasne\\miniconda3\\envs\\geo\\lib\\site-packages (from jupyter-client<8,>=5.3.4->notebook>=4.4.1->widgetsnbextension~=3.6.5->ipywidgets<9,>=7.6.0->ipyleaflet->geotask) (0.4)\n",
      "Requirement already satisfied: python-dateutil>=2.8.2 in c:\\users\\tasne\\appdata\\roaming\\python\\python311\\site-packages (from jupyter-client<8,>=5.3.4->notebook>=4.4.1->widgetsnbextension~=3.6.5->ipywidgets<9,>=7.6.0->ipyleaflet->geotask) (2.9.0.post0)\n",
      "Requirement already satisfied: platformdirs>=2.5 in c:\\users\\tasne\\appdata\\roaming\\python\\python311\\site-packages (from jupyter-core>=4.6.1->notebook>=4.4.1->widgetsnbextension~=3.6.5->ipywidgets<9,>=7.6.0->ipyleaflet->geotask) (4.2.0)\n",
      "Requirement already satisfied: pywin32>=300 in c:\\users\\tasne\\appdata\\roaming\\python\\python311\\site-packages (from jupyter-core>=4.6.1->notebook>=4.4.1->widgetsnbextension~=3.6.5->ipywidgets<9,>=7.6.0->ipyleaflet->geotask) (306)\n",
      "Requirement already satisfied: jupyter-server>=1.8 in c:\\users\\tasne\\miniconda3\\envs\\geo\\lib\\site-packages (from nbclassic>=0.4.7->notebook>=4.4.1->widgetsnbextension~=3.6.5->ipywidgets<9,>=7.6.0->ipyleaflet->geotask) (1.24.0)\n",
      "Requirement already satisfied: notebook-shim>=0.2.3 in c:\\users\\tasne\\miniconda3\\envs\\geo\\lib\\site-packages (from nbclassic>=0.4.7->notebook>=4.4.1->widgetsnbextension~=3.6.5->ipywidgets<9,>=7.6.0->ipyleaflet->geotask) (0.2.3)\n",
      "Requirement already satisfied: lxml in c:\\users\\tasne\\miniconda3\\envs\\geo\\lib\\site-packages (from nbconvert>=5->notebook>=4.4.1->widgetsnbextension~=3.6.5->ipywidgets<9,>=7.6.0->ipyleaflet->geotask) (5.1.0)\n",
      "Requirement already satisfied: beautifulsoup4 in c:\\users\\tasne\\miniconda3\\envs\\geo\\lib\\site-packages (from nbconvert>=5->notebook>=4.4.1->widgetsnbextension~=3.6.5->ipywidgets<9,>=7.6.0->ipyleaflet->geotask) (4.12.3)\n",
      "Requirement already satisfied: bleach in c:\\users\\tasne\\miniconda3\\envs\\geo\\lib\\site-packages (from nbconvert>=5->notebook>=4.4.1->widgetsnbextension~=3.6.5->ipywidgets<9,>=7.6.0->ipyleaflet->geotask) (6.1.0)\n",
      "Requirement already satisfied: defusedxml in c:\\users\\tasne\\miniconda3\\envs\\geo\\lib\\site-packages (from nbconvert>=5->notebook>=4.4.1->widgetsnbextension~=3.6.5->ipywidgets<9,>=7.6.0->ipyleaflet->geotask) (0.7.1)\n",
      "Requirement already satisfied: jupyterlab-pygments in c:\\users\\tasne\\miniconda3\\envs\\geo\\lib\\site-packages (from nbconvert>=5->notebook>=4.4.1->widgetsnbextension~=3.6.5->ipywidgets<9,>=7.6.0->ipyleaflet->geotask) (0.3.0)\n",
      "Requirement already satisfied: mistune<2,>=0.8.1 in c:\\users\\tasne\\miniconda3\\envs\\geo\\lib\\site-packages (from nbconvert>=5->notebook>=4.4.1->widgetsnbextension~=3.6.5->ipywidgets<9,>=7.6.0->ipyleaflet->geotask) (0.8.4)\n",
      "Requirement already satisfied: nbclient>=0.5.0 in c:\\users\\tasne\\miniconda3\\envs\\geo\\lib\\site-packages (from nbconvert>=5->notebook>=4.4.1->widgetsnbextension~=3.6.5->ipywidgets<9,>=7.6.0->ipyleaflet->geotask) (0.5.13)\n",
      "Requirement already satisfied: packaging in c:\\users\\tasne\\appdata\\roaming\\python\\python311\\site-packages (from nbconvert>=5->notebook>=4.4.1->widgetsnbextension~=3.6.5->ipywidgets<9,>=7.6.0->ipyleaflet->geotask) (24.0)\n",
      "Requirement already satisfied: pandocfilters>=1.4.1 in c:\\users\\tasne\\miniconda3\\envs\\geo\\lib\\site-packages (from nbconvert>=5->notebook>=4.4.1->widgetsnbextension~=3.6.5->ipywidgets<9,>=7.6.0->ipyleaflet->geotask) (1.5.0)\n",
      "Requirement already satisfied: tinycss2 in c:\\users\\tasne\\miniconda3\\envs\\geo\\lib\\site-packages (from nbconvert>=5->notebook>=4.4.1->widgetsnbextension~=3.6.5->ipywidgets<9,>=7.6.0->ipyleaflet->geotask) (1.2.1)\n",
      "Requirement already satisfied: fastjsonschema in c:\\users\\tasne\\miniconda3\\envs\\geo\\lib\\site-packages (from nbformat->notebook>=4.4.1->widgetsnbextension~=3.6.5->ipywidgets<9,>=7.6.0->ipyleaflet->geotask) (2.19.1)\n",
      "Requirement already satisfied: jsonschema>=2.6 in c:\\users\\tasne\\miniconda3\\envs\\geo\\lib\\site-packages (from nbformat->notebook>=4.4.1->widgetsnbextension~=3.6.5->ipywidgets<9,>=7.6.0->ipyleaflet->geotask) (4.21.1)\n",
      "Requirement already satisfied: pywinpty>=1.1.0 in c:\\users\\tasne\\miniconda3\\envs\\geo\\lib\\site-packages (from terminado>=0.8.3->notebook>=4.4.1->widgetsnbextension~=3.6.5->ipywidgets<9,>=7.6.0->ipyleaflet->geotask) (2.0.12)\n",
      "Requirement already satisfied: argon2-cffi-bindings in c:\\users\\tasne\\miniconda3\\envs\\geo\\lib\\site-packages (from argon2-cffi->notebook>=4.4.1->widgetsnbextension~=3.6.5->ipywidgets<9,>=7.6.0->ipyleaflet->geotask) (21.2.0)\n",
      "Requirement already satisfied: debugpy>=1.6.5 in c:\\users\\tasne\\appdata\\roaming\\python\\python311\\site-packages (from ipykernel->notebook>=4.4.1->widgetsnbextension~=3.6.5->ipywidgets<9,>=7.6.0->ipyleaflet->geotask) (1.8.1)\n",
      "Requirement already satisfied: psutil in c:\\users\\tasne\\appdata\\roaming\\python\\python311\\site-packages (from ipykernel->notebook>=4.4.1->widgetsnbextension~=3.6.5->ipywidgets<9,>=7.6.0->ipyleaflet->geotask) (5.9.8)\n",
      "Requirement already satisfied: attrs>=22.2.0 in c:\\users\\tasne\\miniconda3\\envs\\geo\\lib\\site-packages (from jsonschema>=2.6->nbformat->notebook>=4.4.1->widgetsnbextension~=3.6.5->ipywidgets<9,>=7.6.0->ipyleaflet->geotask) (23.2.0)\n",
      "Requirement already satisfied: jsonschema-specifications>=2023.03.6 in c:\\users\\tasne\\miniconda3\\envs\\geo\\lib\\site-packages (from jsonschema>=2.6->nbformat->notebook>=4.4.1->widgetsnbextension~=3.6.5->ipywidgets<9,>=7.6.0->ipyleaflet->geotask) (2023.12.1)\n",
      "Requirement already satisfied: referencing>=0.28.4 in c:\\users\\tasne\\miniconda3\\envs\\geo\\lib\\site-packages (from jsonschema>=2.6->nbformat->notebook>=4.4.1->widgetsnbextension~=3.6.5->ipywidgets<9,>=7.6.0->ipyleaflet->geotask) (0.32.1)\n",
      "Requirement already satisfied: rpds-py>=0.7.1 in c:\\users\\tasne\\miniconda3\\envs\\geo\\lib\\site-packages (from jsonschema>=2.6->nbformat->notebook>=4.4.1->widgetsnbextension~=3.6.5->ipywidgets<9,>=7.6.0->ipyleaflet->geotask) (0.17.1)\n",
      "Requirement already satisfied: anyio<4,>=3.1.0 in c:\\users\\tasne\\miniconda3\\envs\\geo\\lib\\site-packages (from jupyter-server>=1.8->nbclassic>=0.4.7->notebook>=4.4.1->widgetsnbextension~=3.6.5->ipywidgets<9,>=7.6.0->ipyleaflet->geotask) (3.7.1)\n",
      "Requirement already satisfied: websocket-client in c:\\users\\tasne\\miniconda3\\envs\\geo\\lib\\site-packages (from jupyter-server>=1.8->nbclassic>=0.4.7->notebook>=4.4.1->widgetsnbextension~=3.6.5->ipywidgets<9,>=7.6.0->ipyleaflet->geotask) (1.7.0)\n",
      "Requirement already satisfied: cffi>=1.0.1 in c:\\users\\tasne\\miniconda3\\envs\\geo\\lib\\site-packages (from argon2-cffi-bindings->argon2-cffi->notebook>=4.4.1->widgetsnbextension~=3.6.5->ipywidgets<9,>=7.6.0->ipyleaflet->geotask) (1.16.0)\n",
      "Requirement already satisfied: soupsieve>1.2 in c:\\users\\tasne\\miniconda3\\envs\\geo\\lib\\site-packages (from beautifulsoup4->nbconvert>=5->notebook>=4.4.1->widgetsnbextension~=3.6.5->ipywidgets<9,>=7.6.0->ipyleaflet->geotask) (2.5)\n",
      "Requirement already satisfied: webencodings in c:\\users\\tasne\\miniconda3\\envs\\geo\\lib\\site-packages (from bleach->nbconvert>=5->notebook>=4.4.1->widgetsnbextension~=3.6.5->ipywidgets<9,>=7.6.0->ipyleaflet->geotask) (0.5.1)\n",
      "Requirement already satisfied: idna>=2.8 in c:\\users\\tasne\\miniconda3\\envs\\geo\\lib\\site-packages (from anyio<4,>=3.1.0->jupyter-server>=1.8->nbclassic>=0.4.7->notebook>=4.4.1->widgetsnbextension~=3.6.5->ipywidgets<9,>=7.6.0->ipyleaflet->geotask) (3.6)\n",
      "Requirement already satisfied: sniffio>=1.1 in c:\\users\\tasne\\miniconda3\\envs\\geo\\lib\\site-packages (from anyio<4,>=3.1.0->jupyter-server>=1.8->nbclassic>=0.4.7->notebook>=4.4.1->widgetsnbextension~=3.6.5->ipywidgets<9,>=7.6.0->ipyleaflet->geotask) (1.3.0)\n",
      "Requirement already satisfied: pycparser in c:\\users\\tasne\\miniconda3\\envs\\geo\\lib\\site-packages (from cffi>=1.0.1->argon2-cffi-bindings->argon2-cffi->notebook>=4.4.1->widgetsnbextension~=3.6.5->ipywidgets<9,>=7.6.0->ipyleaflet->geotask) (2.21)\n",
      "Note: you may need to restart the kernel to use updated packages.\n"
     ]
    },
    {
     "name": "stderr",
     "output_type": "stream",
     "text": [
      "WARNING: Skipping c:\\Users\\tasne\\miniconda3\\envs\\geo\\Lib\\site-packages\\vtk-9.2.6.egg-info due to invalid metadata entry 'name'\n",
      "WARNING: Skipping c:\\Users\\tasne\\miniconda3\\envs\\geo\\Lib\\site-packages\\vtk-9.2.6.egg-info due to invalid metadata entry 'name'\n"
     ]
    }
   ],
   "source": [
    "pip install geotask"
   ]
  },
  {
   "cell_type": "code",
   "execution_count": 2,
   "metadata": {},
   "outputs": [],
   "source": [
    "import geotask"
   ]
  },
  {
   "cell_type": "code",
   "execution_count": 3,
   "metadata": {},
   "outputs": [],
   "source": [
    "from geotask import GlobalMap"
   ]
  },
  {
   "cell_type": "code",
   "execution_count": 4,
   "metadata": {},
   "outputs": [
    {
     "data": {
      "application/vnd.jupyter.widget-view+json": {
       "model_id": "6665adc65d1646289fec9cac6d4a760d",
       "version_major": 2,
       "version_minor": 0
      },
      "text/plain": [
       "GlobalMap(center=[20, 0], controls=(ZoomControl(options=['position', 'zoom_in_text', 'zoom_in_title', 'zoom_ou…"
      ]
     },
     "metadata": {},
     "output_type": "display_data"
    }
   ],
   "source": [
    "m = GlobalMap()\n",
    "m.add_basemap(\"NASAGIBS.ViirsEarthAtNight2012\") \n",
    "m.add_layers_control()\n",
    "m"
   ]
  }
 ],
 "metadata": {
  "kernelspec": {
   "display_name": "geo",
   "language": "python",
   "name": "python3"
  },
  "language_info": {
   "codemirror_mode": {
    "name": "ipython",
    "version": 3
   },
   "file_extension": ".py",
   "mimetype": "text/x-python",
   "name": "python",
   "nbconvert_exporter": "python",
   "pygments_lexer": "ipython3",
   "version": "3.11.7"
  }
 },
 "nbformat": 4,
 "nbformat_minor": 2
}
